{
 "cells": [
  {
   "cell_type": "code",
   "execution_count": 1,
   "id": "bab16ce2-88b1-44fa-ab63-dc3f99599264",
   "metadata": {},
   "outputs": [
    {
     "data": {
      "text/plain": [
       "'\\nQ1. What is multithreading in python? Why is it used? Name the module used to handle threads in python.\\n'"
      ]
     },
     "execution_count": 1,
     "metadata": {},
     "output_type": "execute_result"
    }
   ],
   "source": [
    "\"\"\"\n",
    "Q1. What is multithreading in python? Why is it used? Name the module used to handle threads in python.\n",
    "\"\"\""
   ]
  },
  {
   "cell_type": "code",
   "execution_count": 2,
   "id": "a4aaca76-ec5e-45d7-88d4-0c69d727b810",
   "metadata": {},
   "outputs": [
    {
     "data": {
      "text/plain": [
       "'\\n Multithreading in Python refers to the execution of multiple threads simultaneously in a single process. \\n It allows a program to perform multiple tasks concurrently, thereby increasing the performance and efficiency of the program. \\n The threading module is used to handle threads in Python.\\n '"
      ]
     },
     "execution_count": 2,
     "metadata": {},
     "output_type": "execute_result"
    }
   ],
   "source": [
    "\"\"\"\n",
    " Multithreading in Python refers to the execution of multiple threads simultaneously in a single process. \n",
    " It allows a program to perform multiple tasks concurrently, thereby increasing the performance and efficiency of the program. \n",
    " The threading module is used to handle threads in Python.\n",
    " \"\"\""
   ]
  },
  {
   "cell_type": "code",
   "execution_count": 3,
   "id": "00d28216-7a96-482e-9545-d17a0cddc616",
   "metadata": {},
   "outputs": [
    {
     "data": {
      "text/plain": [
       "'\\nQ2. Why threading module used? Write the use of the following functions:\\n1. activecount()\\n2. currentThread()\\n3. enumerate()\\n'"
      ]
     },
     "execution_count": 3,
     "metadata": {},
     "output_type": "execute_result"
    }
   ],
   "source": [
    "\"\"\"\n",
    "Q2. Why threading module used? Write the use of the following functions:\n",
    "1. activecount()\n",
    "2. currentThread()\n",
    "3. enumerate()\n",
    "\"\"\""
   ]
  },
  {
   "cell_type": "code",
   "execution_count": 4,
   "id": "8455fb5d-baee-4061-a9db-cee95bebe1c7",
   "metadata": {},
   "outputs": [
    {
     "data": {
      "text/plain": [
       "'\\nThe threading module is used to create and manage threads in Python. The following functions are commonly used:\\n\\n1.activecount(): This function returns the number of threads currently active in the program.\\n2.currentThread(): This function returns a reference to the current thread.\\n3.enumerate(): This function returns a list of all the active threads in the program.\\n'"
      ]
     },
     "execution_count": 4,
     "metadata": {},
     "output_type": "execute_result"
    }
   ],
   "source": [
    "\"\"\"\n",
    "The threading module is used to create and manage threads in Python. The following functions are commonly used:\n",
    "\n",
    "1.activecount(): This function returns the number of threads currently active in the program.\n",
    "2.currentThread(): This function returns a reference to the current thread.\n",
    "3.enumerate(): This function returns a list of all the active threads in the program.\n",
    "\"\"\""
   ]
  },
  {
   "cell_type": "code",
   "execution_count": 5,
   "id": "7c5f517d-0591-4def-abda-62f4e1c9859e",
   "metadata": {},
   "outputs": [
    {
     "data": {
      "text/plain": [
       "'\\nQ3. Explain the following functions:\\n1. run()\\n2. start()\\n3. join()\\n4. isAIive()\\n'"
      ]
     },
     "execution_count": 5,
     "metadata": {},
     "output_type": "execute_result"
    }
   ],
   "source": [
    "\"\"\"\n",
    "Q3. Explain the following functions:\n",
    "1. run()\n",
    "2. start()\n",
    "3. join()\n",
    "4. isAIive()\n",
    "\"\"\""
   ]
  },
  {
   "cell_type": "code",
   "execution_count": 6,
   "id": "32704eda-c963-4db5-a948-87a4b8a9bdc2",
   "metadata": {},
   "outputs": [
    {
     "data": {
      "text/plain": [
       "'\\nThe following functions are used to manage threads in Python:\\n\\n1. run(): This method is called when a thread is started. It contains the code that is executed in the thread.\\n2. start(): This method starts the execution of the thread by calling the run() method.\\n3. join(): This method waits for the thread to complete its execution.\\n4. isAlive(): This method returns a boolean value indicating whether the thread is still running.\\n'"
      ]
     },
     "execution_count": 6,
     "metadata": {},
     "output_type": "execute_result"
    }
   ],
   "source": [
    "\"\"\"\n",
    "The following functions are used to manage threads in Python:\n",
    "\n",
    "1. run(): This method is called when a thread is started. It contains the code that is executed in the thread.\n",
    "2. start(): This method starts the execution of the thread by calling the run() method.\n",
    "3. join(): This method waits for the thread to complete its execution.\n",
    "4. isAlive(): This method returns a boolean value indicating whether the thread is still running.\n",
    "\"\"\""
   ]
  },
  {
   "cell_type": "code",
   "execution_count": 7,
   "id": "9471e143-6909-469f-a240-c1804f4cb56a",
   "metadata": {},
   "outputs": [
    {
     "data": {
      "text/plain": [
       "'\\nQ4. Write a python program to create two threads. Thread one must print the list of squares and thread\\n'"
      ]
     },
     "execution_count": 7,
     "metadata": {},
     "output_type": "execute_result"
    }
   ],
   "source": [
    "\"\"\"\n",
    "Q4. Write a python program to create two threads. Thread one must print the list of squares and thread\n",
    "\"\"\""
   ]
  },
  {
   "cell_type": "code",
   "execution_count": 8,
   "id": "b6ee4b78-6bad-455d-a896-5dede26846a8",
   "metadata": {},
   "outputs": [
    {
     "name": "stdout",
     "output_type": "stream",
     "text": [
      "0\n",
      "1\n",
      "4\n",
      "9\n",
      "16\n",
      "25\n",
      "36\n",
      "49\n",
      "64\n",
      "81\n",
      "0\n",
      "1\n",
      "8\n",
      "27\n",
      "64\n",
      "125\n",
      "216\n",
      "343\n",
      "512\n",
      "729\n",
      "Done\n"
     ]
    }
   ],
   "source": [
    "import threading\n",
    "\n",
    "def print_squares():\n",
    "    for i in range(10):\n",
    "        print(i**2)\n",
    "\n",
    "def print_cubes():\n",
    "    for i in range(10):\n",
    "        print(i**3)\n",
    "\n",
    "t1 = threading.Thread(target=print_squares)\n",
    "t2 = threading.Thread(target=print_cubes)\n",
    "\n",
    "t1.start()\n",
    "t2.start()\n",
    "\n",
    "t1.join()\n",
    "t2.join()\n",
    "\n",
    "print(\"Done\")\n"
   ]
  },
  {
   "cell_type": "code",
   "execution_count": 9,
   "id": "dfcaebee-cbe7-4165-8fce-af240911a67d",
   "metadata": {},
   "outputs": [
    {
     "data": {
      "text/plain": [
       "'\\nQ5. State advantages and disadvantages of multithreading.\\n'"
      ]
     },
     "execution_count": 9,
     "metadata": {},
     "output_type": "execute_result"
    }
   ],
   "source": [
    "\"\"\"\n",
    "Q5. State advantages and disadvantages of multithreading.\n",
    "\"\"\""
   ]
  },
  {
   "cell_type": "code",
   "execution_count": 11,
   "id": "636a9618-e2f2-42ea-97db-5f7b2374fa5d",
   "metadata": {},
   "outputs": [
    {
     "data": {
      "text/plain": [
       "'\\nAdvantages and disadvantages of multithreading\\n\\nAdvantages:\\n\\nIncreased performance: Multithreading allows multiple threads to execute simultaneously, which can increase the overall performance of the system, especially in situations where there are multiple CPUs or cores available.\\nImproved responsiveness: By separating time-consuming tasks from the main thread, the system can remain responsive to user input, allowing the user to interact with the system while the background tasks are running.\\nResource sharing: Multiple threads can share resources like memory and CPU time, which can lead to better resource utilization and efficiency.\\nModular design: Multithreading allows for a modular design of complex applications, making it easier to manage and maintain the code.\\nDisadvantages:\\n\\nComplexity: Multithreaded programs can be more complex and difficult to design, implement, and debug, especially when dealing with shared resources and synchronization issues.\\nSynchronization overhead: Threads must be synchronized when accessing shared resources to prevent race conditions and other synchronization issues, which can result in additional overhead and performance degradation.\\nIncreased memory usage: Each thread has its own stack and other resources, which can lead to increased memory usage and memory fragmentation.\\nDebugging difficulties: Multithreaded programs can be difficult to debug, especially when dealing with synchronization issues and other concurrency-related bugs.\\n'"
      ]
     },
     "execution_count": 11,
     "metadata": {},
     "output_type": "execute_result"
    }
   ],
   "source": [
    "\"\"\"\n",
    "Advantages and disadvantages of multithreading\n",
    "\n",
    "Advantages:\n",
    "\n",
    "Increased performance: Multithreading allows multiple threads to execute simultaneously, which can increase the overall performance of the system, especially in situations where there are multiple CPUs or cores available.\n",
    "Improved responsiveness: By separating time-consuming tasks from the main thread, the system can remain responsive to user input, allowing the user to interact with the system while the background tasks are running.\n",
    "Resource sharing: Multiple threads can share resources like memory and CPU time, which can lead to better resource utilization and efficiency.\n",
    "Modular design: Multithreading allows for a modular design of complex applications, making it easier to manage and maintain the code.\n",
    "Disadvantages:\n",
    "\n",
    "Complexity: Multithreaded programs can be more complex and difficult to design, implement, and debug, especially when dealing with shared resources and synchronization issues.\n",
    "Synchronization overhead: Threads must be synchronized when accessing shared resources to prevent race conditions and other synchronization issues, which can result in additional overhead and performance degradation.\n",
    "Increased memory usage: Each thread has its own stack and other resources, which can lead to increased memory usage and memory fragmentation.\n",
    "Debugging difficulties: Multithreaded programs can be difficult to debug, especially when dealing with synchronization issues and other concurrency-related bugs.\n",
    "\"\"\""
   ]
  },
  {
   "cell_type": "code",
   "execution_count": 10,
   "id": "14fbfe5a-2431-4aef-ab4b-edb4a161919d",
   "metadata": {},
   "outputs": [
    {
     "data": {
      "text/plain": [
       "'\\nQ6. Explain deadlocks and race conditions.\\n'"
      ]
     },
     "execution_count": 10,
     "metadata": {},
     "output_type": "execute_result"
    }
   ],
   "source": [
    "\"\"\"\n",
    "Q6. Explain deadlocks and race conditions.\n",
    "\"\"\""
   ]
  },
  {
   "cell_type": "code",
   "execution_count": 12,
   "id": "958a9487-3e8e-4708-98fa-ad638b888884",
   "metadata": {},
   "outputs": [
    {
     "data": {
      "text/plain": [
       "'\\nDeadlocks and race conditions\\n\\nDeadlock is a situation in which two or more threads are blocked waiting for each other to release resources that they need in order to continue execution. Deadlocks occur when two or more threads are stuck in a cycle of waiting for each other to release resources, and neither thread can proceed.\\n\\nRace conditions occur when two or more threads access shared resources or variables in an inconsistent order, resulting in unpredictable behavior or incorrect results. Race conditions occur when the order of execution of the threads is not controlled properly, and different threads access shared resources in a different order.\\n\\nDeadlocks and race conditions can both lead to program failures, and are often difficult to diagnose and correct. Deadlocks can be prevented by carefully managing the use of shared resources and avoiding circular dependencies, while race conditions can be prevented by using proper synchronization techniques such as locks, semaphores, and monitors.\\n'"
      ]
     },
     "execution_count": 12,
     "metadata": {},
     "output_type": "execute_result"
    }
   ],
   "source": [
    "\"\"\"\n",
    "Deadlocks and race conditions\n",
    "\n",
    "Deadlock is a situation in which two or more threads are blocked waiting for each other to release resources that they need in order to continue execution. Deadlocks occur when two or more threads are stuck in a cycle of waiting for each other to release resources, and neither thread can proceed.\n",
    "\n",
    "Race conditions occur when two or more threads access shared resources or variables in an inconsistent order, resulting in unpredictable behavior or incorrect results. Race conditions occur when the order of execution of the threads is not controlled properly, and different threads access shared resources in a different order.\n",
    "\n",
    "Deadlocks and race conditions can both lead to program failures, and are often difficult to diagnose and correct. Deadlocks can be prevented by carefully managing the use of shared resources and avoiding circular dependencies, while race conditions can be prevented by using proper synchronization techniques such as locks, semaphores, and monitors.\n",
    "\"\"\""
   ]
  },
  {
   "cell_type": "code",
   "execution_count": null,
   "id": "0e56da76-79ff-48b4-9abb-7af9bd74d152",
   "metadata": {},
   "outputs": [],
   "source": []
  }
 ],
 "metadata": {
  "kernelspec": {
   "display_name": "Python 3 (ipykernel)",
   "language": "python",
   "name": "python3"
  },
  "language_info": {
   "codemirror_mode": {
    "name": "ipython",
    "version": 3
   },
   "file_extension": ".py",
   "mimetype": "text/x-python",
   "name": "python",
   "nbconvert_exporter": "python",
   "pygments_lexer": "ipython3",
   "version": "3.10.8"
  }
 },
 "nbformat": 4,
 "nbformat_minor": 5
}
